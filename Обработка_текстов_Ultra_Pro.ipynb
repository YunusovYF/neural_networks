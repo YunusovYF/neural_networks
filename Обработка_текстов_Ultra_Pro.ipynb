{
  "nbformat": 4,
  "nbformat_minor": 0,
  "metadata": {
    "colab": {
      "name": "Обработка текстов Ultra Pro",
      "provenance": [],
      "collapsed_sections": [],
      "machine_shape": "hm",
      "include_colab_link": true
    },
    "kernelspec": {
      "name": "python3",
      "display_name": "Python 3"
    },
    "accelerator": "GPU"
  },
  "cells": [
    {
      "cell_type": "markdown",
      "metadata": {
        "id": "view-in-github",
        "colab_type": "text"
      },
      "source": [
        "<a href=\"https://colab.research.google.com/github/YunusovYF/neural_networks/blob/main/%D0%9E%D0%B1%D1%80%D0%B0%D0%B1%D0%BE%D1%82%D0%BA%D0%B0_%D1%82%D0%B5%D0%BA%D1%81%D1%82%D0%BE%D0%B2_Ultra_Pro.ipynb\" target=\"_parent\"><img src=\"https://colab.research.google.com/assets/colab-badge.svg\" alt=\"Open In Colab\"/></a>"
      ]
    },
    {
      "cell_type": "code",
      "metadata": {
        "id": "VdQmQRVFqXXk"
      },
      "source": [
        "from google.colab import files # Для работы с файлами \n",
        "import numpy as np # Для работы с данными \n",
        "import pandas as pd # Для работы с таблицами\n",
        "import matplotlib.pyplot as plt # Для вывода графиков\n",
        "import os # Для работы с файлами\n",
        "%matplotlib inline\n",
        "\n",
        "from tensorflow.keras import utils # Для работы с категориальными данными\n",
        "from tensorflow.keras.models import Sequential # Полносвязная модель\n",
        "from tensorflow.keras.layers import Dense, Dropout, SpatialDropout1D, BatchNormalization, Embedding, Flatten, Activation # Слои для сети\n",
        "from tensorflow.keras.preprocessing.text import Tokenizer # Методы для работы с текстами и преобразования их в последовательности\n",
        "from tensorflow.keras.preprocessing.sequence import pad_sequences # Метод для работы с последовательностями\n",
        "\n",
        "from sklearn.preprocessing import LabelEncoder # Метод кодирования тестовых лейблов\n",
        "from sklearn.model_selection import train_test_split # Для разделения выборки на тестовую и обучающую\n",
        "from google.colab import drive # Для работы с Google Drive\n",
        "import time # Импортируем библиотеку time\n",
        "\n",
        "import codecs "
      ],
      "execution_count": null,
      "outputs": []
    },
    {
      "cell_type": "code",
      "metadata": {
        "colab": {
          "base_uri": "https://localhost:8080/"
        },
        "id": "CVdqI7EILyVq",
        "outputId": "f46f8646-c552-432c-ddc6-1255364bcbee"
      },
      "source": [
        "from google.colab import drive\n",
        "drive.mount('/content/drive')"
      ],
      "execution_count": null,
      "outputs": [
        {
          "output_type": "stream",
          "text": [
            "Mounted at /content/drive\n"
          ],
          "name": "stdout"
        }
      ]
    },
    {
      "cell_type": "code",
      "metadata": {
        "id": "7gzuN38krngD",
        "colab": {
          "base_uri": "https://localhost:8080/"
        },
        "outputId": "0bf84d79-5c39-43cb-f06f-b2569e757efe"
      },
      "source": [
        "drive.mount('/content/drive')"
      ],
      "execution_count": null,
      "outputs": [
        {
          "output_type": "stream",
          "text": [
            "Drive already mounted at /content/drive; to attempt to forcibly remount, call drive.mount(\"/content/drive\", force_remount=True).\n"
          ],
          "name": "stdout"
        }
      ]
    },
    {
      "cell_type": "code",
      "metadata": {
        "id": "8bfErwEjcWnN"
      },
      "source": [
        "df = pd.DataFrame(columns=['name', 'message'])"
      ],
      "execution_count": null,
      "outputs": []
    },
    {
      "cell_type": "code",
      "metadata": {
        "id": "qfgSVijgM-zD"
      },
      "source": [
        "# перебираем архив сообщений диалога из вк и составляем датафрейм\n",
        "for root, dirs, files in os.walk('/content/drive/MyDrive/Baza/2000000101'):\n",
        "  for file in files:\n",
        "    fileBody = codecs.open('/content/drive/MyDrive/Baza/2000000101/'+str(file), 'r', 'windows-1251') \n",
        "    m=0\n",
        "    n=0\n",
        "\n",
        "    for line in fileBody:\n",
        "      words = line.lstrip().split(sep='>')\n",
        "      # print(words)\n",
        "      for word in words:\n",
        "        if m==1 and word=='<div':\n",
        "          mess=words[1].split('>')\n",
        "          mess=str(mess[0].split('<')[0])\n",
        "          m=0\n",
        "          n=1\n",
        "        if word == '<div class=\"message__header\"':\n",
        "          m = 1\n",
        "          if str(words[1])[:8]=='<a href=':\n",
        "            name=str(words[2].split('<')[0])\n",
        "            n=0\n",
        "          else:\n",
        "            name=str(words[1].split(',')[0])\n",
        "            n=0\n",
        "      if n==1:\n",
        "        df = pd.DataFrame(np.array([[name,mess]]), columns=['name', 'message']).append(df, ignore_index=True)\n",
        "        n=0"
      ],
      "execution_count": null,
      "outputs": []
    },
    {
      "cell_type": "code",
      "metadata": {
        "id": "NnJIqczAke_f"
      },
      "source": [
        "i=1\n",
        "for cl in df['name'].unique(): #Проходим по всем классам\n",
        "  df.loc[df[\"name\"]==cl, \"name\"] = 'Человек '+str(i)\n",
        "  i+=1"
      ],
      "execution_count": null,
      "outputs": []
    },
    {
      "cell_type": "code",
      "metadata": {
        "id": "-WcL00HA6mpw",
        "colab": {
          "base_uri": "https://localhost:8080/"
        },
        "outputId": "cb1089ca-f361-40b1-cb39-1232a4c0e462"
      },
      "source": [
        "!rm -R /content/texts # Проверяем наличие папки texts. Если есть, удаляем ее"
      ],
      "execution_count": null,
      "outputs": [
        {
          "output_type": "stream",
          "text": [
            "rm: cannot remove '/content/texts': No such file or directory\n"
          ],
          "name": "stdout"
        }
      ]
    },
    {
      "cell_type": "code",
      "metadata": {
        "id": "nD4GLbeIUJv5",
        "colab": {
          "base_uri": "https://localhost:8080/"
        },
        "outputId": "5787e46b-4742-45d7-8a12-e4e57bed0819"
      },
      "source": [
        "print(df.shape) #Выведем форму таблицы"
      ],
      "execution_count": null,
      "outputs": [
        {
          "output_type": "stream",
          "text": [
            "(6320, 2)\n"
          ],
          "name": "stdout"
        }
      ]
    },
    {
      "cell_type": "code",
      "metadata": {
        "id": "DMXZwIqnULCF",
        "colab": {
          "base_uri": "https://localhost:8080/"
        },
        "outputId": "6c3853ab-c344-4ddd-98f4-f723015fde8b"
      },
      "source": [
        "print(df.values[1]) #Выведем пример из таблицы "
      ],
      "execution_count": null,
      "outputs": [
        {
          "output_type": "stream",
          "text": [
            "['Человек 2' 'Приеду через неделю&#128517;']\n"
          ],
          "name": "stdout"
        }
      ]
    },
    {
      "cell_type": "code",
      "metadata": {
        "id": "r3WYUDq2yYvq",
        "colab": {
          "base_uri": "https://localhost:8080/"
        },
        "outputId": "a4e898f8-9417-4e32-886c-a5c590b8f23d"
      },
      "source": [
        "for cl in df['name'].unique(): #Проходим по всем классам\n",
        "  print('Количество записей класса ', cl, ': ', df[df.name == cl].shape[0])\n",
        "  "
      ],
      "execution_count": null,
      "outputs": [
        {
          "output_type": "stream",
          "text": [
            "Количество записей класса  Человек 1 :  662\n",
            "Количество записей класса  Человек 2 :  117\n",
            "Количество записей класса  Человек 3 :  1775\n",
            "Количество записей класса  Человек 4 :  1324\n",
            "Количество записей класса  Человек 5 :  16\n",
            "Количество записей класса  Человек 6 :  1148\n",
            "Количество записей класса  Человек 7 :  15\n",
            "Количество записей класса  Человек 8 :  262\n",
            "Количество записей класса  Человек 9 :  41\n",
            "Количество записей класса  Человек 10 :  371\n",
            "Количество записей класса  Человек 11 :  33\n",
            "Количество записей класса  Человек 12 :  138\n",
            "Количество записей класса  Человек 13 :  1\n",
            "Количество записей класса  Человек 14 :  7\n",
            "Количество записей класса  Человек 15 :  1\n",
            "Количество записей класса  Человек 16 :  6\n",
            "Количество записей класса  Человек 17 :  30\n",
            "Количество записей класса  Человек 18 :  54\n",
            "Количество записей класса  Человек 19 :  13\n",
            "Количество записей класса  Человек 20 :  3\n",
            "Количество записей класса  Человек 21 :  116\n",
            "Количество записей класса  Человек 22 :  5\n",
            "Количество записей класса  Человек 23 :  1\n",
            "Количество записей класса  Человек 24 :  1\n",
            "Количество записей класса  Человек 25 :  3\n",
            "Количество записей класса  Человек 26 :  1\n",
            "Количество записей класса  Человек 27 :  3\n",
            "Количество записей класса  Человек 28 :  1\n",
            "Количество записей класса  Человек 29 :  2\n",
            "Количество записей класса  Человек 30 :  1\n",
            "Количество записей класса  Человек 31 :  154\n",
            "Количество записей класса  Человек 32 :  3\n",
            "Количество записей класса  Человек 33 :  12\n"
          ],
          "name": "stdout"
        }
      ]
    },
    {
      "cell_type": "code",
      "metadata": {
        "id": "B7zVyeQYynhN",
        "colab": {
          "base_uri": "https://localhost:8080/"
        },
        "outputId": "4203e658-225a-45a0-9867-b6989d7a6173"
      },
      "source": [
        "texts = df['message'].values #Извлекаем данные всех текстов из столбца text\n",
        "classes = list(df['name'].values) #Извлекаем соответствующие им значения классов (лейблов) столбца text\n",
        "maxWordsCount = 60000 #Зададим максимальное количество слов/индексов, учитываемое при обучении текстов\n",
        "\n",
        "print(df['name'].unique()) #Выводим все уникальные значения классов\n",
        "nClasses = df['name'].nunique()+1  #Задаём количество классов, обращаясь к столбцу category и оставляя уникальные значения\n",
        "print(nClasses) #Посмотрим на количество классов"
      ],
      "execution_count": null,
      "outputs": [
        {
          "output_type": "stream",
          "text": [
            "['Человек 1' 'Человек 2' 'Человек 3' 'Человек 4' 'Человек 5' 'Человек 6'\n",
            " 'Человек 7' 'Человек 8' 'Человек 9' 'Человек 10' 'Человек 11'\n",
            " 'Человек 12' 'Человек 13' 'Человек 14' 'Человек 15' 'Человек 16'\n",
            " 'Человек 17' 'Человек 18' 'Человек 19' 'Человек 20' 'Человек 21'\n",
            " 'Человек 22' 'Человек 23' 'Человек 24' 'Человек 25' 'Человек 26'\n",
            " 'Человек 27' 'Человек 28' 'Человек 29' 'Человек 30' 'Человек 31'\n",
            " 'Человек 32' 'Человек 33']\n",
            "34\n"
          ],
          "name": "stdout"
        }
      ]
    },
    {
      "cell_type": "code",
      "metadata": {
        "id": "_5w-oEwuynhS",
        "colab": {
          "base_uri": "https://localhost:8080/"
        },
        "outputId": "f3bbd151-8d66-42be-f45f-2878dda3e4d6"
      },
      "source": [
        "#Преобразовываем текстовые данные в числовые/векторные для обучения нейросетью\n",
        "#Для этого воспользуемся встроенной в Keras функцией Tokenizer для разбиения текста и превращения в матрицу числовых значений\n",
        "#num_words=maxWordsCount - определяем макс.кол-во слов/индексов, учитываемое при обучении текстов\n",
        "#filters='!\"#$%&()*+,-./:;<=>?@[\\\\]^_`{|}~\\t\\n' - избавляемся от ненужных символов\n",
        "#lower=True - приводим слова к нижнему регистру\n",
        "#split=' ' - разделяем слова по пробелу\n",
        "#char_level=False - просим токенайзер не удалять однобуквенные слова\n",
        "tokenizer = Tokenizer(num_words=maxWordsCount, filters='!\"#$%&()*+,-./:;<=>?@[\\\\]^_`{|}~\\t\\n', lower=True, split=' ', oov_token='unknown', char_level=False)\n",
        "\n",
        "tokenizer.fit_on_texts(texts) #\"Скармливаем\" наши тексты, т.е. даём в обработку методу, который соберет словарь частотности\n",
        "\n",
        "#Формируем матрицу индексов по принципу Bag of Words\n",
        "xAll = tokenizer.texts_to_matrix(texts) #Каждое слово из текста нашло свой индекс в векторе длиной maxWordsCount и отметилось в нем единичкой \n",
        "print(xAll.shape)  #Посмотрим на форму текстов\n",
        "print(xAll[0, :20])#И отдельно на фрагмент начала вектора"
      ],
      "execution_count": null,
      "outputs": [
        {
          "output_type": "stream",
          "text": [
            "(6320, 60000)\n",
            "[0. 0. 0. 0. 0. 0. 0. 0. 0. 0. 0. 0. 0. 0. 0. 0. 0. 0. 0. 0.]\n"
          ],
          "name": "stdout"
        }
      ]
    },
    {
      "cell_type": "code",
      "metadata": {
        "id": "mhl1AWPcynhV"
      },
      "source": [
        "print(tokenizer.word_index.items()) #Вытаскиваем индексы слов для просмотра"
      ],
      "execution_count": null,
      "outputs": []
    },
    {
      "cell_type": "code",
      "metadata": {
        "id": "bFgxvYCvynhY",
        "colab": {
          "base_uri": "https://localhost:8080/"
        },
        "outputId": "4b5441c6-7ead-473a-d7df-f0b990ff43aa"
      },
      "source": [
        "print(\"Размер словаря\", len(tokenizer.word_index.items()))"
      ],
      "execution_count": null,
      "outputs": [
        {
          "output_type": "stream",
          "text": [
            "Размер словаря 7484\n"
          ],
          "name": "stdout"
        }
      ]
    },
    {
      "cell_type": "code",
      "metadata": {
        "id": "67RlS5Rdynhb",
        "colab": {
          "base_uri": "https://localhost:8080/"
        },
        "outputId": "3aad4f0b-e467-4a5d-ec65-7d4cebae7e66"
      },
      "source": [
        "#Преобразовываем категории в векторы\n",
        "encoder = LabelEncoder() # Вызываем метод кодирования тестовых лейблов из библиотеки sklearn\n",
        "encoder.fit(classes) # Подгружаем в него категории из нашей базы\n",
        "classesEncoded = encoder.transform(classes) # Кодируем категории\n",
        "print(encoder.classes_)\n",
        "print(classesEncoded.shape)\n",
        "print(classesEncoded[:10])"
      ],
      "execution_count": null,
      "outputs": [
        {
          "output_type": "stream",
          "text": [
            "['Человек 1' 'Человек 10' 'Человек 11' 'Человек 12' 'Человек 13'\n",
            " 'Человек 14' 'Человек 15' 'Человек 16' 'Человек 17' 'Человек 18'\n",
            " 'Человек 19' 'Человек 2' 'Человек 20' 'Человек 21' 'Человек 22'\n",
            " 'Человек 23' 'Человек 24' 'Человек 25' 'Человек 26' 'Человек 27'\n",
            " 'Человек 28' 'Человек 29' 'Человек 3' 'Человек 30' 'Человек 31'\n",
            " 'Человек 32' 'Человек 33' 'Человек 4' 'Человек 5' 'Человек 6' 'Человек 7'\n",
            " 'Человек 8' 'Человек 9']\n",
            "(6320,)\n",
            "[ 0 11 22 11 27  0 27 27 22 27]\n"
          ],
          "name": "stdout"
        }
      ]
    },
    {
      "cell_type": "code",
      "metadata": {
        "id": "f_K9jhHfBw9Y",
        "colab": {
          "base_uri": "https://localhost:8080/"
        },
        "outputId": "c5ff3d98-cc41-408f-bde7-73179015ee36"
      },
      "source": [
        "yAll = utils.to_categorical(classesEncoded, nClasses) # И выводим каждый лейбл в виде вектора длиной 22, с 1кой в позиции соответствующего класса и нулями\n",
        "print(yAll.shape) # Посмотрим на форму лейблов категорий\n",
        "print(yAll[0]) # И отдельно на первую строку"
      ],
      "execution_count": null,
      "outputs": [
        {
          "output_type": "stream",
          "text": [
            "(6320, 34)\n",
            "[1. 0. 0. 0. 0. 0. 0. 0. 0. 0. 0. 0. 0. 0. 0. 0. 0. 0. 0. 0. 0. 0. 0. 0.\n",
            " 0. 0. 0. 0. 0. 0. 0. 0. 0. 0.]\n"
          ],
          "name": "stdout"
        }
      ]
    },
    {
      "cell_type": "code",
      "metadata": {
        "id": "mJq5KSx3ynhf",
        "colab": {
          "base_uri": "https://localhost:8080/"
        },
        "outputId": "acbec343-7e17-45d7-a8a2-e3480dae270c"
      },
      "source": [
        "# разбиваем все данные на обучающую и тестовую выборки с помощью метода train_test_split из библиотеки sklearn\n",
        "xTrain, xVal, yTrain, yVal = train_test_split(xAll, yAll, test_size=0.2)\n",
        "print(xTrain.shape) #посмотрим на форму текстов из обучающей выборки\n",
        "print(yTrain.shape) #и на форму соответсвующих им классов"
      ],
      "execution_count": null,
      "outputs": [
        {
          "output_type": "stream",
          "text": [
            "(5056, 60000)\n",
            "(5056, 34)\n"
          ],
          "name": "stdout"
        }
      ]
    },
    {
      "cell_type": "code",
      "metadata": {
        "id": "lECcAuZJynhl",
        "colab": {
          "base_uri": "https://localhost:8080/",
          "height": 1000
        },
        "outputId": "fb72f484-5af3-4b74-ce8e-a6d94ba2e3ca"
      },
      "source": [
        "#Создаём полносвязную сеть\n",
        "model01 = Sequential()\n",
        "model01.add(Dense(300, input_dim=maxWordsCount, activation=\"relu\"))\n",
        "model01.add(Dropout(0.9))\n",
        "model01.add(Dense(nClasses, activation='softmax'))\n",
        "\n",
        "\n",
        "model01.compile(optimizer='adam', \n",
        "              loss='categorical_crossentropy', \n",
        "              metrics=['accuracy'])\n",
        "\n",
        "#Обучаем сеть на выборке\n",
        "history = model01.fit(xTrain, \n",
        "                    yTrain, \n",
        "                    epochs=40,\n",
        "                    batch_size=128,\n",
        "                    validation_data=(xVal, yVal))\n",
        "\n",
        "plt.plot(history.history['accuracy'], \n",
        "         label='Доля верных ответов на обучающем наборе')\n",
        "plt.plot(history.history['val_accuracy'], \n",
        "         label='Доля верных ответов на проверочном наборе')\n",
        "plt.xlabel('Эпоха обучения')\n",
        "plt.ylabel('Доля верных ответов')\n",
        "plt.legend()\n",
        "plt.show()\n",
        "\n",
        "plt.plot(history.history['loss'], \n",
        "         label='Доля ошибок на обучающем наборе')\n",
        "plt.plot(history.history['val_loss'], \n",
        "         label='Доля ошибок на проверочном наборе')\n",
        "plt.xlabel('Эпоха обучения')\n",
        "plt.ylabel('Доля ошибок')\n",
        "plt.legend()\n",
        "plt.show()"
      ],
      "execution_count": null,
      "outputs": [
        {
          "output_type": "stream",
          "text": [
            "Epoch 1/40\n",
            "40/40 [==============================] - 3s 32ms/step - loss: 3.4184 - accuracy: 0.1787 - val_loss: 2.8036 - val_accuracy: 0.2975\n",
            "Epoch 2/40\n",
            "40/40 [==============================] - 1s 18ms/step - loss: 2.6293 - accuracy: 0.2693 - val_loss: 2.1312 - val_accuracy: 0.2975\n",
            "Epoch 3/40\n",
            "40/40 [==============================] - 1s 19ms/step - loss: 2.1850 - accuracy: 0.3011 - val_loss: 2.0232 - val_accuracy: 0.3220\n",
            "Epoch 4/40\n",
            "40/40 [==============================] - 1s 18ms/step - loss: 2.0610 - accuracy: 0.3309 - val_loss: 1.9786 - val_accuracy: 0.3584\n",
            "Epoch 5/40\n",
            "40/40 [==============================] - 1s 19ms/step - loss: 1.9999 - accuracy: 0.3425 - val_loss: 1.9500 - val_accuracy: 0.3616\n",
            "Epoch 6/40\n",
            "40/40 [==============================] - 1s 19ms/step - loss: 1.8999 - accuracy: 0.3785 - val_loss: 1.9263 - val_accuracy: 0.3703\n",
            "Epoch 7/40\n",
            "40/40 [==============================] - 1s 18ms/step - loss: 1.8864 - accuracy: 0.4039 - val_loss: 1.9082 - val_accuracy: 0.3782\n",
            "Epoch 8/40\n",
            "40/40 [==============================] - 1s 19ms/step - loss: 1.7695 - accuracy: 0.4287 - val_loss: 1.8966 - val_accuracy: 0.3813\n",
            "Epoch 9/40\n",
            "40/40 [==============================] - 1s 18ms/step - loss: 1.7417 - accuracy: 0.4522 - val_loss: 1.8813 - val_accuracy: 0.3940\n",
            "Epoch 10/40\n",
            "40/40 [==============================] - 1s 18ms/step - loss: 1.7219 - accuracy: 0.4568 - val_loss: 1.8712 - val_accuracy: 0.3932\n",
            "Epoch 11/40\n",
            "40/40 [==============================] - 1s 19ms/step - loss: 1.6283 - accuracy: 0.4971 - val_loss: 1.8623 - val_accuracy: 0.4082\n",
            "Epoch 12/40\n",
            "40/40 [==============================] - 1s 19ms/step - loss: 1.6176 - accuracy: 0.4862 - val_loss: 1.8576 - val_accuracy: 0.3956\n",
            "Epoch 13/40\n",
            "40/40 [==============================] - 1s 18ms/step - loss: 1.5690 - accuracy: 0.5161 - val_loss: 1.8550 - val_accuracy: 0.4066\n",
            "Epoch 14/40\n",
            "40/40 [==============================] - 1s 18ms/step - loss: 1.4995 - accuracy: 0.5362 - val_loss: 1.8512 - val_accuracy: 0.4082\n",
            "Epoch 15/40\n",
            "40/40 [==============================] - 1s 22ms/step - loss: 1.4672 - accuracy: 0.5463 - val_loss: 1.8493 - val_accuracy: 0.3987\n",
            "Epoch 16/40\n",
            "40/40 [==============================] - 1s 19ms/step - loss: 1.4527 - accuracy: 0.5527 - val_loss: 1.8499 - val_accuracy: 0.4114\n",
            "Epoch 17/40\n",
            "40/40 [==============================] - 1s 18ms/step - loss: 1.4108 - accuracy: 0.5714 - val_loss: 1.8504 - val_accuracy: 0.4098\n",
            "Epoch 18/40\n",
            "40/40 [==============================] - 1s 19ms/step - loss: 1.3486 - accuracy: 0.5864 - val_loss: 1.8534 - val_accuracy: 0.4082\n",
            "Epoch 19/40\n",
            "40/40 [==============================] - 1s 18ms/step - loss: 1.3508 - accuracy: 0.5792 - val_loss: 1.8563 - val_accuracy: 0.4130\n",
            "Epoch 20/40\n",
            "40/40 [==============================] - 1s 19ms/step - loss: 1.3324 - accuracy: 0.6025 - val_loss: 1.8605 - val_accuracy: 0.4122\n",
            "Epoch 21/40\n",
            "40/40 [==============================] - 1s 18ms/step - loss: 1.2510 - accuracy: 0.6214 - val_loss: 1.8648 - val_accuracy: 0.4051\n",
            "Epoch 22/40\n",
            "40/40 [==============================] - 1s 18ms/step - loss: 1.2283 - accuracy: 0.6301 - val_loss: 1.8708 - val_accuracy: 0.3916\n",
            "Epoch 23/40\n",
            "40/40 [==============================] - 1s 19ms/step - loss: 1.2203 - accuracy: 0.6399 - val_loss: 1.8767 - val_accuracy: 0.4059\n",
            "Epoch 24/40\n",
            "40/40 [==============================] - 1s 18ms/step - loss: 1.1638 - accuracy: 0.6492 - val_loss: 1.8830 - val_accuracy: 0.3979\n",
            "Epoch 25/40\n",
            "40/40 [==============================] - 1s 19ms/step - loss: 1.1666 - accuracy: 0.6424 - val_loss: 1.8880 - val_accuracy: 0.3964\n",
            "Epoch 26/40\n",
            "40/40 [==============================] - 1s 20ms/step - loss: 1.1556 - accuracy: 0.6493 - val_loss: 1.8977 - val_accuracy: 0.3948\n",
            "Epoch 27/40\n",
            "40/40 [==============================] - 1s 19ms/step - loss: 1.1317 - accuracy: 0.6571 - val_loss: 1.9066 - val_accuracy: 0.3900\n",
            "Epoch 28/40\n",
            "40/40 [==============================] - 1s 20ms/step - loss: 1.0993 - accuracy: 0.6680 - val_loss: 1.9166 - val_accuracy: 0.3932\n",
            "Epoch 29/40\n",
            "40/40 [==============================] - 1s 19ms/step - loss: 1.1032 - accuracy: 0.6676 - val_loss: 1.9250 - val_accuracy: 0.3956\n",
            "Epoch 30/40\n",
            "40/40 [==============================] - 1s 19ms/step - loss: 1.0851 - accuracy: 0.6724 - val_loss: 1.9353 - val_accuracy: 0.3979\n",
            "Epoch 31/40\n",
            "40/40 [==============================] - 1s 19ms/step - loss: 1.0666 - accuracy: 0.6780 - val_loss: 1.9425 - val_accuracy: 0.3940\n",
            "Epoch 32/40\n",
            "40/40 [==============================] - 1s 19ms/step - loss: 1.0242 - accuracy: 0.6850 - val_loss: 1.9509 - val_accuracy: 0.3940\n",
            "Epoch 33/40\n",
            "40/40 [==============================] - 1s 19ms/step - loss: 1.0469 - accuracy: 0.6833 - val_loss: 1.9595 - val_accuracy: 0.3924\n",
            "Epoch 34/40\n",
            "40/40 [==============================] - 1s 19ms/step - loss: 0.9996 - accuracy: 0.6937 - val_loss: 1.9707 - val_accuracy: 0.3940\n",
            "Epoch 35/40\n",
            "40/40 [==============================] - 1s 19ms/step - loss: 0.9987 - accuracy: 0.7000 - val_loss: 1.9798 - val_accuracy: 0.3908\n",
            "Epoch 36/40\n",
            "40/40 [==============================] - 1s 19ms/step - loss: 0.9680 - accuracy: 0.7048 - val_loss: 1.9921 - val_accuracy: 0.3924\n",
            "Epoch 37/40\n",
            "40/40 [==============================] - 1s 19ms/step - loss: 0.9818 - accuracy: 0.7032 - val_loss: 1.9991 - val_accuracy: 0.3916\n",
            "Epoch 38/40\n",
            "40/40 [==============================] - 1s 20ms/step - loss: 0.9614 - accuracy: 0.7030 - val_loss: 2.0101 - val_accuracy: 0.3940\n",
            "Epoch 39/40\n",
            "40/40 [==============================] - 1s 19ms/step - loss: 0.9721 - accuracy: 0.6988 - val_loss: 2.0212 - val_accuracy: 0.3877\n",
            "Epoch 40/40\n",
            "40/40 [==============================] - 1s 19ms/step - loss: 0.9319 - accuracy: 0.7195 - val_loss: 2.0327 - val_accuracy: 0.3869\n"
          ],
          "name": "stdout"
        },
        {
          "output_type": "display_data",
          "data": {
            "image/png": "[encoded data removed]",
            "text/plain": [
              "<Figure size 432x288 with 1 Axes>"
            ]
          },
          "metadata": {
            "tags": [],
            "needs_background": "light"
          }
        },
        {
          "output_type": "display_data",
          "data": {
            "image/png": "[encoded data removed]",
            "text/plain": [
              "<Figure size 432x288 with 1 Axes>"
            ]
          },
          "metadata": {
            "tags": [],
            "needs_background": "light"
          }
        }
      ]
    }
  ]
}