{
  "nbformat": 4,
  "nbformat_minor": 0,
  "metadata": {
    "colab": {
      "name": "RNN и CNN в обработке текстов Ultra Pro\"",
      "provenance": [],
      "collapsed_sections": [],
      "machine_shape": "hm",
      "include_colab_link": true
    },
    "kernelspec": {
      "name": "python3",
      "display_name": "Python 3"
    },
    "accelerator": "GPU"
  },
  "cells": [
    {
      "cell_type": "markdown",
      "metadata": {
        "id": "view-in-github",
        "colab_type": "text"
      },
      "source": [
        "<a href=\"https://colab.research.google.com/github/YunusovYF/neural_networks/blob/main/RNN_%D0%B8_CNN_%D0%B2_%D0%BE%D0%B1%D1%80%D0%B0%D0%B1%D0%BE%D1%82%D0%BA%D0%B5_%D1%82%D0%B5%D0%BA%D1%81%D1%82%D0%BE%D0%B2_Ultra_Pro%22.ipynb\" target=\"_parent\"><img src=\"https://colab.research.google.com/assets/colab-badge.svg\" alt=\"Open In Colab\"/></a>"
      ]
    },
    {
      "cell_type": "markdown",
      "metadata": {
        "id": "nNrsMQACowln"
      },
      "source": [
        "Задание Ultra pro\n",
        "\n",
        "Выгрузите какой-нибудь из ваших диалогов любой соц.сети и напишите нейронную сеть для классификации собеседника по сообщению. \n",
        "\n",
        "Использование групповых чатов для обучения поощряется, но усложняет задачу. Если необходима конфиденциальность, датасет можно не предоставлять.\n",
        "\n",
        "Если вы решали эту задачу и для предыдущего занятия, то дополнительно необходимо провести эксперименты по разным сетям, сравнить качество и написать вывод, какой подход показал большую точность: с BOW или с CNN\\RNN."
      ]
    },
    {
      "cell_type": "code",
      "metadata": {
        "id": "VdQmQRVFqXXk"
      },
      "source": [
        "from google.colab import files # Для работы с файлами \n",
        "import numpy as np # Для работы с данными \n",
        "import pandas as pd # Для работы с таблицами\n",
        "import matplotlib.pyplot as plt # Для вывода графиков\n",
        "import os # Для работы с файлами\n",
        "%matplotlib inline\n",
        "\n",
        "from tensorflow.keras import utils # Для работы с категориальными данными\n",
        "from tensorflow.keras.models import Sequential # Полносвязная модель\n",
        "from tensorflow.keras.layers import Dense, Dropout, SpatialDropout1D, BatchNormalization, Embedding, Flatten, Activation # Слои для сети\n",
        "from tensorflow.keras.layers import Conv1D, SpatialDropout1D, MaxPooling1D, GlobalAveragePooling1D, GlobalMaxPooling1D\n",
        "from tensorflow.keras.preprocessing.text import Tokenizer # Методы для работы с текстами и преобразования их в последовательности\n",
        "from tensorflow.keras.preprocessing.sequence import pad_sequences # Метод для работы с последовательностями\n",
        "\n",
        "from sklearn.preprocessing import LabelEncoder # Метод кодирования тестовых лейблов\n",
        "from sklearn.model_selection import train_test_split # Для разделения выборки на тестовую и обучающую\n",
        "from google.colab import drive # Для работы с Google Drive\n",
        "import time # Импортируем библиотеку time\n",
        "\n",
        "import codecs "
      ],
      "execution_count": null,
      "outputs": []
    },
    {
      "cell_type": "code",
      "metadata": {
        "colab": {
          "base_uri": "https://localhost:8080/"
        },
        "id": "CVdqI7EILyVq",
        "outputId": "a065800b-8758-4c0c-ca1e-67578cd31d5a"
      },
      "source": [
        "from google.colab import drive\n",
        "drive.mount('/content/drive')"
      ],
      "execution_count": null,
      "outputs": [
        {
          "output_type": "stream",
          "text": [
            "Mounted at /content/drive\n"
          ],
          "name": "stdout"
        }
      ]
    },
    {
      "cell_type": "code",
      "metadata": {
        "id": "7gzuN38krngD",
        "colab": {
          "base_uri": "https://localhost:8080/"
        },
        "outputId": "60c647cf-c4ce-4eed-a9e9-19537c0d9511"
      },
      "source": [
        "drive.mount('/content/drive')"
      ],
      "execution_count": null,
      "outputs": [
        {
          "output_type": "stream",
          "text": [
            "Drive already mounted at /content/drive; to attempt to forcibly remount, call drive.mount(\"/content/drive\", force_remount=True).\n"
          ],
          "name": "stdout"
        }
      ]
    },
    {
      "cell_type": "code",
      "metadata": {
        "id": "8bfErwEjcWnN"
      },
      "source": [
        "df = pd.DataFrame(columns=['name', 'message'])"
      ],
      "execution_count": null,
      "outputs": []
    },
    {
      "cell_type": "code",
      "metadata": {
        "id": "qfgSVijgM-zD"
      },
      "source": [
        "# перебираем архив сообщений диалога из вк и составляем датафрейм\n",
        "for root, dirs, files in os.walk('/content/drive/MyDrive/Baza/2000000101'):\n",
        "  for file in files:\n",
        "    fileBody = codecs.open('/content/drive/MyDrive/Baza/2000000101/'+str(file), 'r', 'windows-1251') \n",
        "    m=0\n",
        "    n=0\n",
        "\n",
        "    for line in fileBody:\n",
        "      words = line.lstrip().split(sep='>')\n",
        "      # print(words)\n",
        "      for word in words:\n",
        "        if m==1 and word=='<div':\n",
        "          mess=words[1].split('>')\n",
        "          mess=str(mess[0].split('<')[0])\n",
        "          m=0\n",
        "          n=1\n",
        "        if word == '<div class=\"message__header\"':\n",
        "          m = 1\n",
        "          if str(words[1])[:8]=='<a href=':\n",
        "            name=str(words[2].split('<')[0])\n",
        "            n=0\n",
        "          else:\n",
        "            name=str(words[1].split(',')[0])\n",
        "            n=0\n",
        "      if n==1:\n",
        "        df = pd.DataFrame(np.array([[name,mess]]), columns=['name', 'message']).append(df, ignore_index=True)\n",
        "        n=0"
      ],
      "execution_count": null,
      "outputs": []
    },
    {
      "cell_type": "code",
      "metadata": {
        "id": "NnJIqczAke_f"
      },
      "source": [
        "i=1\n",
        "for cl in df['name'].unique(): #Проходим по всем классам\n",
        "  df.loc[df[\"name\"]==cl, \"name\"] = 'Человек '+str(i)\n",
        "  i+=1"
      ],
      "execution_count": null,
      "outputs": []
    },
    {
      "cell_type": "code",
      "metadata": {
        "id": "-WcL00HA6mpw",
        "colab": {
          "base_uri": "https://localhost:8080/"
        },
        "outputId": "1563b13e-e0ef-49ea-ed9c-839ac8ed7397"
      },
      "source": [
        "!rm -R /content/texts # Проверяем наличие папки texts. Если есть, удаляем ее"
      ],
      "execution_count": null,
      "outputs": [
        {
          "output_type": "stream",
          "text": [
            "rm: cannot remove '/content/texts': No such file or directory\n"
          ],
          "name": "stdout"
        }
      ]
    },
    {
      "cell_type": "code",
      "metadata": {
        "id": "nD4GLbeIUJv5",
        "colab": {
          "base_uri": "https://localhost:8080/"
        },
        "outputId": "57f24a69-192c-4f94-a5e8-3f40a0bcb1a5"
      },
      "source": [
        "print(df.shape) #Выведем форму таблицы"
      ],
      "execution_count": null,
      "outputs": [
        {
          "output_type": "stream",
          "text": [
            "(6320, 2)\n"
          ],
          "name": "stdout"
        }
      ]
    },
    {
      "cell_type": "code",
      "metadata": {
        "id": "DMXZwIqnULCF",
        "colab": {
          "base_uri": "https://localhost:8080/"
        },
        "outputId": "cd723db3-c1c8-49d7-e7ed-c99b02086e4b"
      },
      "source": [
        "print(df.values[1]) #Выведем пример из таблицы "
      ],
      "execution_count": null,
      "outputs": [
        {
          "output_type": "stream",
          "text": [
            "['Человек 2' 'Приеду через неделю&#128517;']\n"
          ],
          "name": "stdout"
        }
      ]
    },
    {
      "cell_type": "code",
      "metadata": {
        "id": "r3WYUDq2yYvq",
        "colab": {
          "base_uri": "https://localhost:8080/"
        },
        "outputId": "2333cc7c-d75a-4c33-e6a8-ce3987db0d7d"
      },
      "source": [
        "for cl in df['name'].unique(): #Проходим по всем классам\n",
        "  print('Количество записей класса ', cl, ': ', df[df.name == cl].shape[0])\n",
        "  "
      ],
      "execution_count": null,
      "outputs": [
        {
          "output_type": "stream",
          "text": [
            "Количество записей класса  Человек 1 :  662\n",
            "Количество записей класса  Человек 2 :  117\n",
            "Количество записей класса  Человек 3 :  1775\n",
            "Количество записей класса  Человек 4 :  1324\n",
            "Количество записей класса  Человек 5 :  16\n",
            "Количество записей класса  Человек 6 :  1148\n",
            "Количество записей класса  Человек 7 :  15\n",
            "Количество записей класса  Человек 8 :  262\n",
            "Количество записей класса  Человек 9 :  41\n",
            "Количество записей класса  Человек 10 :  371\n",
            "Количество записей класса  Человек 11 :  33\n",
            "Количество записей класса  Человек 12 :  138\n",
            "Количество записей класса  Человек 13 :  1\n",
            "Количество записей класса  Человек 14 :  7\n",
            "Количество записей класса  Человек 15 :  1\n",
            "Количество записей класса  Человек 16 :  6\n",
            "Количество записей класса  Человек 17 :  30\n",
            "Количество записей класса  Человек 18 :  54\n",
            "Количество записей класса  Человек 19 :  13\n",
            "Количество записей класса  Человек 20 :  3\n",
            "Количество записей класса  Человек 21 :  116\n",
            "Количество записей класса  Человек 22 :  5\n",
            "Количество записей класса  Человек 23 :  1\n",
            "Количество записей класса  Человек 24 :  1\n",
            "Количество записей класса  Человек 25 :  3\n",
            "Количество записей класса  Человек 26 :  1\n",
            "Количество записей класса  Человек 27 :  3\n",
            "Количество записей класса  Человек 28 :  1\n",
            "Количество записей класса  Человек 29 :  2\n",
            "Количество записей класса  Человек 30 :  1\n",
            "Количество записей класса  Человек 31 :  154\n",
            "Количество записей класса  Человек 32 :  3\n",
            "Количество записей класса  Человек 33 :  12\n"
          ],
          "name": "stdout"
        }
      ]
    },
    {
      "cell_type": "code",
      "metadata": {
        "id": "B7zVyeQYynhN",
        "colab": {
          "base_uri": "https://localhost:8080/"
        },
        "outputId": "afe0a6e1-dfad-4fd8-e5b0-4ff4ea0671b0"
      },
      "source": [
        "texts = df['message'].values #Извлекаем данные всех текстов из столбца text\n",
        "classes = list(df['name'].values) #Извлекаем соответствующие им значения классов (лейблов) столбца text\n",
        "maxWordsCount = 60000 #Зададим максимальное количество слов/индексов, учитываемое при обучении текстов\n",
        "\n",
        "print(df['name'].unique()) #Выводим все уникальные значения классов\n",
        "nClasses = df['name'].nunique()+1  #Задаём количество классов, обращаясь к столбцу category и оставляя уникальные значения\n",
        "print(nClasses) #Посмотрим на количество классов"
      ],
      "execution_count": null,
      "outputs": [
        {
          "output_type": "stream",
          "text": [
            "['Человек 1' 'Человек 2' 'Человек 3' 'Человек 4' 'Человек 5' 'Человек 6'\n",
            " 'Человек 7' 'Человек 8' 'Человек 9' 'Человек 10' 'Человек 11'\n",
            " 'Человек 12' 'Человек 13' 'Человек 14' 'Человек 15' 'Человек 16'\n",
            " 'Человек 17' 'Человек 18' 'Человек 19' 'Человек 20' 'Человек 21'\n",
            " 'Человек 22' 'Человек 23' 'Человек 24' 'Человек 25' 'Человек 26'\n",
            " 'Человек 27' 'Человек 28' 'Человек 29' 'Человек 30' 'Человек 31'\n",
            " 'Человек 32' 'Человек 33']\n",
            "34\n"
          ],
          "name": "stdout"
        }
      ]
    },
    {
      "cell_type": "code",
      "metadata": {
        "id": "_5w-oEwuynhS",
        "colab": {
          "base_uri": "https://localhost:8080/"
        },
        "outputId": "024f497f-3cbd-43c5-a5b5-292ed1e7301d"
      },
      "source": [
        "#Преобразовываем текстовые данные в числовые/векторные для обучения нейросетью\n",
        "#Для этого воспользуемся встроенной в Keras функцией Tokenizer для разбиения текста и превращения в матрицу числовых значений\n",
        "#num_words=maxWordsCount - определяем макс.кол-во слов/индексов, учитываемое при обучении текстов\n",
        "#filters='!\"#$%&()*+,-./:;<=>?@[\\\\]^_`{|}~\\t\\n' - избавляемся от ненужных символов\n",
        "#lower=True - приводим слова к нижнему регистру\n",
        "#split=' ' - разделяем слова по пробелу\n",
        "#char_level=False - просим токенайзер не удалять однобуквенные слова\n",
        "tokenizer = Tokenizer(num_words=maxWordsCount, filters='!\"#$%&()*+,-./:;<=>?@[\\\\]^_`{|}~\\t\\n', lower=True, split=' ', oov_token='unknown', char_level=False)\n",
        "\n",
        "tokenizer.fit_on_texts(texts) #\"Скармливаем\" наши тексты, т.е. даём в обработку методу, который соберет словарь частотности\n",
        "\n",
        "#Формируем матрицу индексов по принципу Bag of Words\n",
        "xAll = tokenizer.texts_to_matrix(texts) #Каждое слово из текста нашло свой индекс в векторе длиной maxWordsCount и отметилось в нем единичкой \n",
        "print(xAll.shape)  #Посмотрим на форму текстов\n",
        "print(xAll[0, :20])#И отдельно на фрагмент начала вектора"
      ],
      "execution_count": null,
      "outputs": [
        {
          "output_type": "stream",
          "text": [
            "(6320, 60000)\n",
            "[0. 0. 0. 0. 0. 0. 0. 0. 0. 0. 0. 0. 0. 0. 0. 0. 0. 0. 0. 0.]\n"
          ],
          "name": "stdout"
        }
      ]
    },
    {
      "cell_type": "code",
      "metadata": {
        "id": "mhl1AWPcynhV"
      },
      "source": [
        "print(tokenizer.word_index.items()) #Вытаскиваем индексы слов для просмотра"
      ],
      "execution_count": null,
      "outputs": []
    },
    {
      "cell_type": "code",
      "metadata": {
        "id": "bFgxvYCvynhY",
        "colab": {
          "base_uri": "https://localhost:8080/"
        },
        "outputId": "939136e2-1614-4fa0-ef0a-868b96a89b73"
      },
      "source": [
        "print(\"Размер словаря\", len(tokenizer.word_index.items()))"
      ],
      "execution_count": null,
      "outputs": [
        {
          "output_type": "stream",
          "text": [
            "Размер словаря 7484\n"
          ],
          "name": "stdout"
        }
      ]
    },
    {
      "cell_type": "code",
      "metadata": {
        "id": "67RlS5Rdynhb",
        "colab": {
          "base_uri": "https://localhost:8080/"
        },
        "outputId": "4d3af4ce-3d90-49c6-935b-712c3716644d"
      },
      "source": [
        "#Преобразовываем категории в векторы\n",
        "encoder = LabelEncoder() # Вызываем метод кодирования тестовых лейблов из библиотеки sklearn\n",
        "encoder.fit(classes) # Подгружаем в него категории из нашей базы\n",
        "classesEncoded = encoder.transform(classes) # Кодируем категории\n",
        "print(encoder.classes_)\n",
        "print(classesEncoded.shape)\n",
        "print(classesEncoded[:10])"
      ],
      "execution_count": null,
      "outputs": [
        {
          "output_type": "stream",
          "text": [
            "['Человек 1' 'Человек 10' 'Человек 11' 'Человек 12' 'Человек 13'\n",
            " 'Человек 14' 'Человек 15' 'Человек 16' 'Человек 17' 'Человек 18'\n",
            " 'Человек 19' 'Человек 2' 'Человек 20' 'Человек 21' 'Человек 22'\n",
            " 'Человек 23' 'Человек 24' 'Человек 25' 'Человек 26' 'Человек 27'\n",
            " 'Человек 28' 'Человек 29' 'Человек 3' 'Человек 30' 'Человек 31'\n",
            " 'Человек 32' 'Человек 33' 'Человек 4' 'Человек 5' 'Человек 6' 'Человек 7'\n",
            " 'Человек 8' 'Человек 9']\n",
            "(6320,)\n",
            "[ 0 11 22 11 27  0 27 27 22 27]\n"
          ],
          "name": "stdout"
        }
      ]
    },
    {
      "cell_type": "code",
      "metadata": {
        "id": "f_K9jhHfBw9Y",
        "colab": {
          "base_uri": "https://localhost:8080/"
        },
        "outputId": "92c36e64-ebd2-4cf2-cf3d-3e962951fb37"
      },
      "source": [
        "yAll = utils.to_categorical(classesEncoded, nClasses) # И выводим каждый лейбл в виде вектора длиной 22, с 1кой в позиции соответствующего класса и нулями\n",
        "print(yAll.shape) # Посмотрим на форму лейблов категорий\n",
        "print(yAll[0]) # И отдельно на первую строку"
      ],
      "execution_count": null,
      "outputs": [
        {
          "output_type": "stream",
          "text": [
            "(6320, 34)\n",
            "[1. 0. 0. 0. 0. 0. 0. 0. 0. 0. 0. 0. 0. 0. 0. 0. 0. 0. 0. 0. 0. 0. 0. 0.\n",
            " 0. 0. 0. 0. 0. 0. 0. 0. 0. 0.]\n"
          ],
          "name": "stdout"
        }
      ]
    },
    {
      "cell_type": "code",
      "metadata": {
        "id": "mJq5KSx3ynhf",
        "colab": {
          "base_uri": "https://localhost:8080/"
        },
        "outputId": "05942c23-67f1-48e8-e959-21392ca1b605"
      },
      "source": [
        "# разбиваем все данные на обучающую и тестовую выборки с помощью метода train_test_split из библиотеки sklearn\n",
        "xTrain, xVal, yTrain, yVal = train_test_split(xAll, yAll, test_size=0.2)\n",
        "print(xTrain.shape) #посмотрим на форму текстов из обучающей выборки\n",
        "print(yTrain.shape) #и на форму соответсвующих им классов"
      ],
      "execution_count": null,
      "outputs": [
        {
          "output_type": "stream",
          "text": [
            "(5056, 60000)\n",
            "(5056, 34)\n"
          ],
          "name": "stdout"
        }
      ]
    },
    {
      "cell_type": "code",
      "metadata": {
        "id": "lECcAuZJynhl",
        "colab": {
          "base_uri": "https://localhost:8080/",
          "height": 1000
        },
        "outputId": "152b10d1-9999-42af-f773-4498e1790749"
      },
      "source": [
        "#Создаём полносвязную сеть\n",
        "model01 = Sequential()\n",
        "model01.add(Dense(300, input_dim=maxWordsCount, activation=\"relu\"))\n",
        "model01.add(Dropout(0.9))\n",
        "model01.add(Dense(nClasses, activation='softmax'))\n",
        "\n",
        "\n",
        "model01.compile(optimizer='adam', \n",
        "              loss='categorical_crossentropy', \n",
        "              metrics=['accuracy'])\n",
        "\n",
        "#Обучаем сеть на выборке\n",
        "history = model01.fit(xTrain, \n",
        "                    yTrain, \n",
        "                    epochs=40,\n",
        "                    batch_size=128,\n",
        "                    validation_data=(xVal, yVal))\n",
        "\n",
        "plt.plot(history.history['accuracy'], \n",
        "         label='Доля верных ответов на обучающем наборе')\n",
        "plt.plot(history.history['val_accuracy'], \n",
        "         label='Доля верных ответов на проверочном наборе')\n",
        "plt.xlabel('Эпоха обучения')\n",
        "plt.ylabel('Доля верных ответов')\n",
        "plt.legend()\n",
        "plt.show()\n",
        "\n",
        "plt.plot(history.history['loss'], \n",
        "         label='Доля ошибок на обучающем наборе')\n",
        "plt.plot(history.history['val_loss'], \n",
        "         label='Доля ошибок на проверочном наборе')\n",
        "plt.xlabel('Эпоха обучения')\n",
        "plt.ylabel('Доля ошибок')\n",
        "plt.legend()\n",
        "plt.show()"
      ],
      "execution_count": null,
      "outputs": [
        {
          "output_type": "stream",
          "text": [
            "Epoch 1/40\n",
            "40/40 [==============================] - 3s 33ms/step - loss: 3.4314 - accuracy: 0.1669 - val_loss: 2.8726 - val_accuracy: 0.2896\n",
            "Epoch 2/40\n",
            "40/40 [==============================] - 1s 18ms/step - loss: 2.6564 - accuracy: 0.2827 - val_loss: 2.1749 - val_accuracy: 0.2896\n",
            "Epoch 3/40\n",
            "40/40 [==============================] - 1s 18ms/step - loss: 2.1663 - accuracy: 0.3096 - val_loss: 2.0538 - val_accuracy: 0.3275\n",
            "Epoch 4/40\n",
            "40/40 [==============================] - 1s 18ms/step - loss: 2.0380 - accuracy: 0.3343 - val_loss: 2.0048 - val_accuracy: 0.3394\n",
            "Epoch 5/40\n",
            "40/40 [==============================] - 1s 18ms/step - loss: 1.9617 - accuracy: 0.3641 - val_loss: 1.9721 - val_accuracy: 0.3639\n",
            "Epoch 6/40\n",
            "40/40 [==============================] - 1s 18ms/step - loss: 1.9221 - accuracy: 0.3867 - val_loss: 1.9447 - val_accuracy: 0.3703\n",
            "Epoch 7/40\n",
            "40/40 [==============================] - 1s 17ms/step - loss: 1.8786 - accuracy: 0.4105 - val_loss: 1.9240 - val_accuracy: 0.3734\n",
            "Epoch 8/40\n",
            "40/40 [==============================] - 1s 18ms/step - loss: 1.7982 - accuracy: 0.4384 - val_loss: 1.9095 - val_accuracy: 0.3805\n",
            "Epoch 9/40\n",
            "40/40 [==============================] - 1s 17ms/step - loss: 1.7466 - accuracy: 0.4527 - val_loss: 1.8976 - val_accuracy: 0.3916\n",
            "Epoch 10/40\n",
            "40/40 [==============================] - 1s 18ms/step - loss: 1.7056 - accuracy: 0.4653 - val_loss: 1.8873 - val_accuracy: 0.3916\n",
            "Epoch 11/40\n",
            "40/40 [==============================] - 1s 18ms/step - loss: 1.6525 - accuracy: 0.4869 - val_loss: 1.8806 - val_accuracy: 0.3932\n",
            "Epoch 12/40\n",
            "40/40 [==============================] - 1s 18ms/step - loss: 1.5682 - accuracy: 0.5052 - val_loss: 1.8758 - val_accuracy: 0.4059\n",
            "Epoch 13/40\n",
            "40/40 [==============================] - 1s 18ms/step - loss: 1.5489 - accuracy: 0.5136 - val_loss: 1.8727 - val_accuracy: 0.3964\n",
            "Epoch 14/40\n",
            "40/40 [==============================] - 1s 18ms/step - loss: 1.5272 - accuracy: 0.5251 - val_loss: 1.8703 - val_accuracy: 0.3956\n",
            "Epoch 15/40\n",
            "40/40 [==============================] - 1s 21ms/step - loss: 1.4792 - accuracy: 0.5433 - val_loss: 1.8686 - val_accuracy: 0.3995\n",
            "Epoch 16/40\n",
            "40/40 [==============================] - 1s 18ms/step - loss: 1.4403 - accuracy: 0.5595 - val_loss: 1.8700 - val_accuracy: 0.4043\n",
            "Epoch 17/40\n",
            "40/40 [==============================] - 1s 18ms/step - loss: 1.4356 - accuracy: 0.5558 - val_loss: 1.8741 - val_accuracy: 0.3956\n",
            "Epoch 18/40\n",
            "40/40 [==============================] - 1s 18ms/step - loss: 1.3977 - accuracy: 0.5734 - val_loss: 1.8770 - val_accuracy: 0.3924\n",
            "Epoch 19/40\n",
            "40/40 [==============================] - 1s 18ms/step - loss: 1.3542 - accuracy: 0.5862 - val_loss: 1.8800 - val_accuracy: 0.4051\n",
            "Epoch 20/40\n",
            "40/40 [==============================] - 1s 18ms/step - loss: 1.3010 - accuracy: 0.6128 - val_loss: 1.8857 - val_accuracy: 0.3979\n",
            "Epoch 21/40\n",
            "40/40 [==============================] - 1s 18ms/step - loss: 1.2830 - accuracy: 0.6076 - val_loss: 1.8921 - val_accuracy: 0.3924\n",
            "Epoch 22/40\n",
            "40/40 [==============================] - 1s 18ms/step - loss: 1.2625 - accuracy: 0.6033 - val_loss: 1.8991 - val_accuracy: 0.4011\n",
            "Epoch 23/40\n",
            "40/40 [==============================] - 1s 18ms/step - loss: 1.2190 - accuracy: 0.6419 - val_loss: 1.9064 - val_accuracy: 0.3916\n",
            "Epoch 24/40\n",
            "40/40 [==============================] - 1s 18ms/step - loss: 1.2035 - accuracy: 0.6287 - val_loss: 1.9147 - val_accuracy: 0.3892\n",
            "Epoch 25/40\n",
            "40/40 [==============================] - 1s 18ms/step - loss: 1.1845 - accuracy: 0.6440 - val_loss: 1.9232 - val_accuracy: 0.3908\n",
            "Epoch 26/40\n",
            "40/40 [==============================] - 1s 17ms/step - loss: 1.1444 - accuracy: 0.6571 - val_loss: 1.9315 - val_accuracy: 0.3900\n",
            "Epoch 27/40\n",
            "40/40 [==============================] - 1s 18ms/step - loss: 1.1023 - accuracy: 0.6650 - val_loss: 1.9405 - val_accuracy: 0.3884\n",
            "Epoch 28/40\n",
            "40/40 [==============================] - 1s 18ms/step - loss: 1.0918 - accuracy: 0.6715 - val_loss: 1.9542 - val_accuracy: 0.3924\n",
            "Epoch 29/40\n",
            "40/40 [==============================] - 1s 18ms/step - loss: 1.0871 - accuracy: 0.6675 - val_loss: 1.9620 - val_accuracy: 0.3908\n",
            "Epoch 30/40\n",
            "40/40 [==============================] - 1s 18ms/step - loss: 1.0706 - accuracy: 0.6679 - val_loss: 1.9721 - val_accuracy: 0.3877\n",
            "Epoch 31/40\n",
            "40/40 [==============================] - 1s 18ms/step - loss: 1.0443 - accuracy: 0.6806 - val_loss: 1.9842 - val_accuracy: 0.3869\n",
            "Epoch 32/40\n",
            "40/40 [==============================] - 1s 18ms/step - loss: 1.0224 - accuracy: 0.6916 - val_loss: 1.9940 - val_accuracy: 0.3877\n",
            "Epoch 33/40\n",
            "40/40 [==============================] - 1s 18ms/step - loss: 1.0162 - accuracy: 0.6931 - val_loss: 2.0037 - val_accuracy: 0.3853\n",
            "Epoch 34/40\n",
            "40/40 [==============================] - 1s 18ms/step - loss: 1.0028 - accuracy: 0.7039 - val_loss: 2.0161 - val_accuracy: 0.3837\n",
            "Epoch 35/40\n",
            "40/40 [==============================] - 1s 18ms/step - loss: 0.9623 - accuracy: 0.7088 - val_loss: 2.0262 - val_accuracy: 0.3845\n",
            "Epoch 36/40\n",
            "40/40 [==============================] - 1s 18ms/step - loss: 0.9844 - accuracy: 0.6991 - val_loss: 2.0347 - val_accuracy: 0.3821\n",
            "Epoch 37/40\n",
            "40/40 [==============================] - 1s 18ms/step - loss: 0.9833 - accuracy: 0.6948 - val_loss: 2.0426 - val_accuracy: 0.3861\n",
            "Epoch 38/40\n",
            "40/40 [==============================] - 1s 18ms/step - loss: 0.9638 - accuracy: 0.7049 - val_loss: 2.0517 - val_accuracy: 0.3853\n",
            "Epoch 39/40\n",
            "40/40 [==============================] - 1s 18ms/step - loss: 0.9574 - accuracy: 0.7069 - val_loss: 2.0636 - val_accuracy: 0.3861\n",
            "Epoch 40/40\n",
            "40/40 [==============================] - 1s 18ms/step - loss: 0.9186 - accuracy: 0.7205 - val_loss: 2.0781 - val_accuracy: 0.3861\n"
          ],
          "name": "stdout"
        },
        {
          "output_type": "display_data",
          "data": {
            "image/png": "[encoded data removed]",
            "text/plain": [
              "<Figure size 432x288 with 1 Axes>"
            ]
          },
          "metadata": {
            "tags": [],
            "needs_background": "light"
          }
        },
        {
          "output_type": "display_data",
          "data": {
            "image/png": "[encoded data removed]",
            "text/plain": [
              "<Figure size 432x288 with 1 Axes>"
            ]
          },
          "metadata": {
            "tags": [],
            "needs_background": "light"
          }
        }
      ]
    },
    {
      "cell_type": "code",
      "metadata": {
        "id": "IM1chMdqmqhs"
      },
      "source": [
        "def divideInHalf(str):\n",
        "    return str[:round(4*len(str)/5)], str[round(4*len(str)/5):]"
      ],
      "execution_count": null,
      "outputs": []
    },
    {
      "cell_type": "code",
      "metadata": {
        "id": "H1iyXFWOdMJb"
      },
      "source": [
        "trainText = []\n",
        "testText = []\n",
        "for el in df['name'].unique():\n",
        "  newStr=''\n",
        "  for index, row in df.loc[df['name'] == el].iterrows():\n",
        "    newStr += row['message'] +' '\n",
        "  a,b = divideInHalf(newStr)\n",
        "  trainText.append(a)\n",
        "  testText.append(b)"
      ],
      "execution_count": null,
      "outputs": []
    },
    {
      "cell_type": "code",
      "metadata": {
        "id": "OIPxtLvWFQfC"
      },
      "source": [
        "maxWordsCount = 60000\n",
        "\n",
        "tokenizer = Tokenizer(num_words=maxWordsCount, filters='–—!\"#$%&()*+,-./:;<=>?@[\\\\]^_`{|}~\\t\\n\\xa0–\\ufeff', lower=True, split=' ', char_level=False, oov_token = 'unknown')\n",
        "\n",
        "tokenizer.fit_on_texts(trainText)\n",
        "items = list(tokenizer.word_index.items())"
      ],
      "execution_count": null,
      "outputs": []
    },
    {
      "cell_type": "code",
      "metadata": {
        "id": "9XyIye-wFTaN"
      },
      "source": [
        "# Преобразуем текст в индекс согласно словарю\n",
        "\n",
        "trainWordIndexes = tokenizer.texts_to_sequences(trainText)\n",
        "testWordIndexes = tokenizer. texts_to_sequences(testText)"
      ],
      "execution_count": null,
      "outputs": []
    },
    {
      "cell_type": "code",
      "metadata": {
        "id": "wqiAox13FVh5"
      },
      "source": [
        "# Создание обучающей выборки\n",
        "\n",
        "def getSetFromIndexes(wordIndexes, xLen, step):\n",
        "  xSample = []\n",
        "  wordsLen = len(wordIndexes)\n",
        "  index = 0\n",
        "\n",
        "  while (index + xLen <= wordsLen):\n",
        "    xSample.append(wordIndexes[index:index+xLen])\n",
        "    index += step\n",
        "\n",
        "  return xSample"
      ],
      "execution_count": null,
      "outputs": []
    },
    {
      "cell_type": "code",
      "metadata": {
        "id": "TvNuXzSJFYv7"
      },
      "source": [
        "# Создание обучающей и проверочной выборки\n",
        "\n",
        "def createSetsMultiClasses(wordIndexes, xLen, step):\n",
        "\n",
        "  nClasses = len(wordIndexes)\n",
        "  classesXSamples = []\n",
        "  for wI in wordIndexes:\n",
        "    classesXSamples.append(getSetFromIndexes(wI, xLen, step))\n",
        "\n",
        "  xSamples = []\n",
        "  ySamples = []\n",
        "\n",
        "  for t in range(nClasses):\n",
        "    xT = classesXSamples[t]\n",
        "    for i in range(len(xT)):\n",
        "      xSamples.append(xT[i])\n",
        "\n",
        "    curry = utils.to_categorical(t, nClasses)\n",
        "    for i in range(len(xT)):\n",
        "      ySamples.append(curry)\n",
        "\n",
        "  xSamples = np.array(xSamples)\n",
        "  ySamples = np.array(ySamples)\n",
        "    \n",
        "  return (xSamples, ySamples)"
      ],
      "execution_count": null,
      "outputs": []
    },
    {
      "cell_type": "code",
      "metadata": {
        "id": "tybtzGpoFbW0"
      },
      "source": [
        "# Задаём базовые параметры\n",
        "\n",
        "xLen = 10\n",
        "step = 5"
      ],
      "execution_count": null,
      "outputs": []
    },
    {
      "cell_type": "code",
      "metadata": {
        "colab": {
          "base_uri": "https://localhost:8080/"
        },
        "id": "BnjMEysUFdGu",
        "outputId": "6515012c-17b4-4601-c92b-ab165171bd4c"
      },
      "source": [
        "# Формируем выборки\n",
        "xTrain, yTrain = createSetsMultiClasses(trainWordIndexes, xLen, step)\n",
        "xTest, yTest = createSetsMultiClasses(testWordIndexes, xLen, step)\n",
        "\n",
        "print(xTrain.shape)\n",
        "print(yTrain.shape)\n",
        "print(xTest.shape)\n",
        "print(yTest.shape)"
      ],
      "execution_count": null,
      "outputs": [
        {
          "output_type": "stream",
          "text": [
            "(4979, 10)\n",
            "(4979, 33)\n",
            "(1228, 10)\n",
            "(1228, 33)\n"
          ],
          "name": "stdout"
        }
      ]
    },
    {
      "cell_type": "code",
      "metadata": {
        "colab": {
          "base_uri": "https://localhost:8080/",
          "height": 1000
        },
        "id": "gmLVcq08EqTZ",
        "outputId": "53e80e30-cb39-47c2-913d-c68a1ec3b1f7"
      },
      "source": [
        "# Создаём модель\n",
        "\n",
        "modelEC = Sequential()\n",
        "\n",
        "modelEC.add(Embedding(maxWordsCount, 50, input_length=xLen))\n",
        "\n",
        "modelEC.add(SpatialDropout1D(0.9))\n",
        "modelEC.add(BatchNormalization())\n",
        "\n",
        "modelEC.add(Conv1D(30, 10, activation='sigmoid', padding='same'))\n",
        "modelEC.add(MaxPooling1D(2))\n",
        "modelEC.add(Dropout(0.5))\n",
        "modelEC.add(Flatten())\n",
        "\n",
        "modelEC.add(Dense(33, activation='softmax'))\n",
        "\n",
        "# компилируем\n",
        "modelEC.compile(optimizer='rmsprop',\n",
        "                loss='categorical_crossentropy',\n",
        "                metrics=['accuracy'])\n",
        "# обучаем\n",
        "history = modelEC.fit(xTrain,\n",
        "                      yTrain,\n",
        "                      epochs=60,\n",
        "                      batch_size=128,\n",
        "                      validation_data=(xTest, yTest))\n",
        "# графики\n",
        "plt.plot(history.history['accuracy'], \n",
        "         label='Доля верных ответов на обучающем наборе')\n",
        "plt.plot(history.history['val_accuracy'], \n",
        "         label='Доля верных ответов на проверочном наборе')\n",
        "plt.xlabel('Эпоха обучения')\n",
        "plt.ylabel('Доля верных ответов')\n",
        "plt.legend()\n",
        "plt.show()\n",
        "\n",
        "plt.plot(history.history['loss'], \n",
        "         label='Доля ошибки на обучающем наборе')\n",
        "plt.plot(history.history['val_loss'], \n",
        "         label='Доля ошибки на проверочном наборе')\n",
        "plt.xlabel('Эпоха обучения')\n",
        "plt.ylabel('Доля ошибки')\n",
        "plt.legend()\n",
        "plt.show()"
      ],
      "execution_count": null,
      "outputs": [
        {
          "output_type": "stream",
          "text": [
            "Epoch 1/60\n",
            "39/39 [==============================] - 6s 17ms/step - loss: 2.7107 - accuracy: 0.2061 - val_loss: 1.9701 - val_accuracy: 0.3827\n",
            "Epoch 2/60\n",
            "39/39 [==============================] - 0s 11ms/step - loss: 2.1971 - accuracy: 0.3188 - val_loss: 1.9336 - val_accuracy: 0.3827\n",
            "Epoch 3/60\n",
            "39/39 [==============================] - 1s 14ms/step - loss: 2.1503 - accuracy: 0.3196 - val_loss: 1.9179 - val_accuracy: 0.3827\n",
            "Epoch 4/60\n",
            "39/39 [==============================] - 0s 11ms/step - loss: 2.1171 - accuracy: 0.3313 - val_loss: 1.9201 - val_accuracy: 0.3827\n",
            "Epoch 5/60\n",
            "39/39 [==============================] - 0s 11ms/step - loss: 2.0795 - accuracy: 0.3412 - val_loss: 1.9153 - val_accuracy: 0.3827\n",
            "Epoch 6/60\n",
            "39/39 [==============================] - 0s 11ms/step - loss: 2.0229 - accuracy: 0.3501 - val_loss: 1.9182 - val_accuracy: 0.3827\n",
            "Epoch 7/60\n",
            "39/39 [==============================] - 0s 11ms/step - loss: 1.9969 - accuracy: 0.3617 - val_loss: 1.9131 - val_accuracy: 0.3827\n",
            "Epoch 8/60\n",
            "39/39 [==============================] - 0s 11ms/step - loss: 1.9621 - accuracy: 0.3724 - val_loss: 1.8945 - val_accuracy: 0.3827\n",
            "Epoch 9/60\n",
            "39/39 [==============================] - 0s 11ms/step - loss: 1.9257 - accuracy: 0.3862 - val_loss: 1.8815 - val_accuracy: 0.3827\n",
            "Epoch 10/60\n",
            "39/39 [==============================] - 0s 11ms/step - loss: 1.8942 - accuracy: 0.3915 - val_loss: 1.8618 - val_accuracy: 0.3836\n",
            "Epoch 11/60\n",
            "39/39 [==============================] - 0s 11ms/step - loss: 1.8640 - accuracy: 0.3937 - val_loss: 1.8365 - val_accuracy: 0.3909\n",
            "Epoch 12/60\n",
            "39/39 [==============================] - 0s 11ms/step - loss: 1.8254 - accuracy: 0.4161 - val_loss: 1.8286 - val_accuracy: 0.4259\n",
            "Epoch 13/60\n",
            "39/39 [==============================] - 0s 11ms/step - loss: 1.8013 - accuracy: 0.4182 - val_loss: 1.8134 - val_accuracy: 0.4414\n",
            "Epoch 14/60\n",
            "39/39 [==============================] - 0s 11ms/step - loss: 1.7728 - accuracy: 0.4220 - val_loss: 1.7991 - val_accuracy: 0.4414\n",
            "Epoch 15/60\n",
            "39/39 [==============================] - 0s 11ms/step - loss: 1.7776 - accuracy: 0.4343 - val_loss: 1.7984 - val_accuracy: 0.4406\n",
            "Epoch 16/60\n",
            "39/39 [==============================] - 0s 11ms/step - loss: 1.7362 - accuracy: 0.4576 - val_loss: 1.7931 - val_accuracy: 0.4528\n",
            "Epoch 17/60\n",
            "39/39 [==============================] - 0s 11ms/step - loss: 1.6804 - accuracy: 0.4500 - val_loss: 1.7880 - val_accuracy: 0.4446\n",
            "Epoch 18/60\n",
            "39/39 [==============================] - 0s 11ms/step - loss: 1.6868 - accuracy: 0.4612 - val_loss: 1.7901 - val_accuracy: 0.4552\n",
            "Epoch 19/60\n",
            "39/39 [==============================] - 0s 11ms/step - loss: 1.6671 - accuracy: 0.4689 - val_loss: 1.7988 - val_accuracy: 0.4503\n",
            "Epoch 20/60\n",
            "39/39 [==============================] - 0s 11ms/step - loss: 1.6647 - accuracy: 0.4714 - val_loss: 1.7968 - val_accuracy: 0.4625\n",
            "Epoch 21/60\n",
            "39/39 [==============================] - 0s 11ms/step - loss: 1.6330 - accuracy: 0.4900 - val_loss: 1.7863 - val_accuracy: 0.4731\n",
            "Epoch 22/60\n",
            "39/39 [==============================] - 0s 11ms/step - loss: 1.6060 - accuracy: 0.4963 - val_loss: 1.7915 - val_accuracy: 0.4715\n",
            "Epoch 23/60\n",
            "39/39 [==============================] - 0s 11ms/step - loss: 1.5836 - accuracy: 0.5032 - val_loss: 1.7907 - val_accuracy: 0.4560\n",
            "Epoch 24/60\n",
            "39/39 [==============================] - 0s 12ms/step - loss: 1.5575 - accuracy: 0.5136 - val_loss: 1.7881 - val_accuracy: 0.4577\n",
            "Epoch 25/60\n",
            "39/39 [==============================] - 0s 11ms/step - loss: 1.5124 - accuracy: 0.5390 - val_loss: 1.7923 - val_accuracy: 0.4650\n",
            "Epoch 26/60\n",
            "39/39 [==============================] - 0s 12ms/step - loss: 1.5239 - accuracy: 0.5229 - val_loss: 1.7911 - val_accuracy: 0.4731\n",
            "Epoch 27/60\n",
            "39/39 [==============================] - 0s 11ms/step - loss: 1.4868 - accuracy: 0.5474 - val_loss: 1.7946 - val_accuracy: 0.4650\n",
            "Epoch 28/60\n",
            "39/39 [==============================] - 0s 11ms/step - loss: 1.4838 - accuracy: 0.5426 - val_loss: 1.7925 - val_accuracy: 0.4691\n",
            "Epoch 29/60\n",
            "39/39 [==============================] - 0s 11ms/step - loss: 1.4392 - accuracy: 0.5578 - val_loss: 1.8029 - val_accuracy: 0.4748\n",
            "Epoch 30/60\n",
            "39/39 [==============================] - 0s 11ms/step - loss: 1.4026 - accuracy: 0.5729 - val_loss: 1.8076 - val_accuracy: 0.4723\n",
            "Epoch 31/60\n",
            "39/39 [==============================] - 0s 12ms/step - loss: 1.3993 - accuracy: 0.5602 - val_loss: 1.8089 - val_accuracy: 0.4682\n",
            "Epoch 32/60\n",
            "39/39 [==============================] - 0s 11ms/step - loss: 1.4025 - accuracy: 0.5574 - val_loss: 1.8019 - val_accuracy: 0.4658\n",
            "Epoch 33/60\n",
            "39/39 [==============================] - 0s 11ms/step - loss: 1.3758 - accuracy: 0.5817 - val_loss: 1.8055 - val_accuracy: 0.4699\n",
            "Epoch 34/60\n",
            "39/39 [==============================] - 0s 11ms/step - loss: 1.3708 - accuracy: 0.5823 - val_loss: 1.8074 - val_accuracy: 0.4805\n",
            "Epoch 35/60\n",
            "39/39 [==============================] - 0s 11ms/step - loss: 1.3275 - accuracy: 0.5945 - val_loss: 1.8107 - val_accuracy: 0.4853\n",
            "Epoch 36/60\n",
            "39/39 [==============================] - 0s 11ms/step - loss: 1.3081 - accuracy: 0.6019 - val_loss: 1.8092 - val_accuracy: 0.4723\n",
            "Epoch 37/60\n",
            "39/39 [==============================] - 0s 11ms/step - loss: 1.2928 - accuracy: 0.6065 - val_loss: 1.8105 - val_accuracy: 0.4772\n",
            "Epoch 38/60\n",
            "39/39 [==============================] - 0s 11ms/step - loss: 1.3173 - accuracy: 0.5875 - val_loss: 1.8177 - val_accuracy: 0.4764\n",
            "Epoch 39/60\n",
            "39/39 [==============================] - 0s 11ms/step - loss: 1.3036 - accuracy: 0.5923 - val_loss: 1.8187 - val_accuracy: 0.4780\n",
            "Epoch 40/60\n",
            "39/39 [==============================] - 0s 11ms/step - loss: 1.2949 - accuracy: 0.6082 - val_loss: 1.8180 - val_accuracy: 0.4813\n",
            "Epoch 41/60\n",
            "39/39 [==============================] - 0s 11ms/step - loss: 1.2917 - accuracy: 0.6045 - val_loss: 1.8219 - val_accuracy: 0.4731\n",
            "Epoch 42/60\n",
            "39/39 [==============================] - 0s 11ms/step - loss: 1.2499 - accuracy: 0.6156 - val_loss: 1.8226 - val_accuracy: 0.4699\n",
            "Epoch 43/60\n",
            "39/39 [==============================] - 0s 12ms/step - loss: 1.2529 - accuracy: 0.6118 - val_loss: 1.8332 - val_accuracy: 0.4723\n",
            "Epoch 44/60\n",
            "39/39 [==============================] - 0s 11ms/step - loss: 1.2233 - accuracy: 0.6298 - val_loss: 1.8306 - val_accuracy: 0.4731\n",
            "Epoch 45/60\n",
            "39/39 [==============================] - 0s 11ms/step - loss: 1.2342 - accuracy: 0.6230 - val_loss: 1.8469 - val_accuracy: 0.4813\n",
            "Epoch 46/60\n",
            "39/39 [==============================] - 0s 11ms/step - loss: 1.1613 - accuracy: 0.6463 - val_loss: 1.8402 - val_accuracy: 0.4707\n",
            "Epoch 47/60\n",
            "39/39 [==============================] - 0s 11ms/step - loss: 1.1658 - accuracy: 0.6426 - val_loss: 1.8489 - val_accuracy: 0.4821\n",
            "Epoch 48/60\n",
            "39/39 [==============================] - 0s 11ms/step - loss: 1.1774 - accuracy: 0.6354 - val_loss: 1.8651 - val_accuracy: 0.4650\n",
            "Epoch 49/60\n",
            "39/39 [==============================] - 0s 11ms/step - loss: 1.1627 - accuracy: 0.6494 - val_loss: 1.8608 - val_accuracy: 0.4853\n",
            "Epoch 50/60\n",
            "39/39 [==============================] - 0s 10ms/step - loss: 1.1383 - accuracy: 0.6516 - val_loss: 1.8675 - val_accuracy: 0.4739\n",
            "Epoch 51/60\n",
            "39/39 [==============================] - 0s 11ms/step - loss: 1.1280 - accuracy: 0.6527 - val_loss: 1.8751 - val_accuracy: 0.4723\n",
            "Epoch 52/60\n",
            "39/39 [==============================] - 0s 10ms/step - loss: 1.1644 - accuracy: 0.6351 - val_loss: 1.8877 - val_accuracy: 0.4723\n",
            "Epoch 53/60\n",
            "39/39 [==============================] - 0s 10ms/step - loss: 1.1137 - accuracy: 0.6556 - val_loss: 1.8934 - val_accuracy: 0.4723\n",
            "Epoch 54/60\n",
            "39/39 [==============================] - 0s 10ms/step - loss: 1.1111 - accuracy: 0.6604 - val_loss: 1.9223 - val_accuracy: 0.4739\n",
            "Epoch 55/60\n",
            "39/39 [==============================] - 0s 11ms/step - loss: 1.1083 - accuracy: 0.6572 - val_loss: 1.8978 - val_accuracy: 0.4625\n",
            "Epoch 56/60\n",
            "39/39 [==============================] - 0s 10ms/step - loss: 1.0890 - accuracy: 0.6716 - val_loss: 1.8965 - val_accuracy: 0.4625\n",
            "Epoch 57/60\n",
            "39/39 [==============================] - 0s 10ms/step - loss: 1.0706 - accuracy: 0.6710 - val_loss: 1.9075 - val_accuracy: 0.4609\n",
            "Epoch 58/60\n",
            "39/39 [==============================] - 0s 10ms/step - loss: 1.0950 - accuracy: 0.6686 - val_loss: 1.9183 - val_accuracy: 0.4691\n",
            "Epoch 59/60\n",
            "39/39 [==============================] - 1s 13ms/step - loss: 1.0864 - accuracy: 0.6698 - val_loss: 1.9060 - val_accuracy: 0.4642\n",
            "Epoch 60/60\n",
            "39/39 [==============================] - 0s 10ms/step - loss: 1.0827 - accuracy: 0.6636 - val_loss: 1.9157 - val_accuracy: 0.4715\n"
          ],
          "name": "stdout"
        },
        {
          "output_type": "display_data",
          "data": {
            "image/png": "[encoded data removed]",
            "text/plain": [
              "<Figure size 432x288 with 1 Axes>"
            ]
          },
          "metadata": {
            "tags": [],
            "needs_background": "light"
          }
        },
        {
          "output_type": "display_data",
          "data": {
            "image/png": "[encoded data removed]",
            "text/plain": [
              "<Figure size 432x288 with 1 Axes>"
            ]
          },
          "metadata": {
            "tags": [],
            "needs_background": "light"
          }
        }
      ]
    },
    {
      "cell_type": "markdown",
      "metadata": {
        "id": "SyqUzsgPfYvJ"
      },
      "source": [
        "Выводы:\n",
        "* добавление одномерной свёрточной сети привело не только к улучшению результата обучения, но и увеличение скорости обучения"
      ]
    }
  ]
}